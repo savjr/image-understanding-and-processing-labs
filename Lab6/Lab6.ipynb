{
 "cells": [
  {
   "cell_type": "code",
   "execution_count": 1,
   "id": "8add317e",
   "metadata": {},
   "outputs": [],
   "source": [
    "#understanding the kernals /filters /windows"
   ]
  },
  {
   "cell_type": "code",
   "execution_count": 2,
   "id": "c8338784",
   "metadata": {},
   "outputs": [
    {
     "name": "stdout",
     "output_type": "stream",
     "text": [
      "[[1 1 1]\n",
      " [1 1 1]\n",
      " [1 1 1]]\n"
     ]
    }
   ],
   "source": [
    "import numpy as np\n",
    "\n",
    "kernal = np.ones((3,3), dtype = int)\n",
    "print(kernal)"
   ]
  },
  {
   "cell_type": "code",
   "execution_count": 1,
   "id": "059ded92",
   "metadata": {},
   "outputs": [
    {
     "data": {
      "text/plain": [
       "-1"
      ]
     },
     "execution_count": 1,
     "metadata": {},
     "output_type": "execute_result"
    }
   ],
   "source": [
    "import cv2\n",
    "import numpy as np\n",
    "\n",
    "#Load the image\n",
    "img = cv2.imread('saltandpepper1.png',1)\n",
    "\n",
    "kernal = np.ones((5,5) , np.float32)/25\n",
    "\n",
    "dst = cv2.filter2D(img,-1,kernal)#src , depth,kernel\n",
    "\n",
    "result = np.hstack((img,dst))\n",
    "\n",
    "cv2.imshow('result',result)\n",
    "cv2.waitKey(0)"
   ]
  },
  {
   "cell_type": "code",
   "execution_count": 2,
   "id": "6259de97",
   "metadata": {},
   "outputs": [],
   "source": [
    "#4.Application of imaage blurring"
   ]
  },
  {
   "cell_type": "code",
   "execution_count": null,
   "id": "9f0a378a",
   "metadata": {},
   "outputs": [],
   "source": [
    "import cv2\n",
    "import numpy as np\n",
    "\n",
    "#load the iamge\n",
    "\n",
    "\n",
    "#Create a custome kernal of size 15x15 and apply to the input image\n",
    "\n",
    "\n",
    "#Apply threshholding operator to highlight the largest object\n",
    "\n",
    "\n",
    "result = np.hstack((img,dst,thresh)\n",
    "cv2.imshow('result',result)\n",
    "cv2.waitKey(0)                 \n",
    "                   "
   ]
  }
 ],
 "metadata": {
  "kernelspec": {
   "display_name": "Python 3 (ipykernel)",
   "language": "python",
   "name": "python3"
  },
  "language_info": {
   "codemirror_mode": {
    "name": "ipython",
    "version": 3
   },
   "file_extension": ".py",
   "mimetype": "text/x-python",
   "name": "python",
   "nbconvert_exporter": "python",
   "pygments_lexer": "ipython3",
   "version": "3.9.6"
  }
 },
 "nbformat": 4,
 "nbformat_minor": 5
}
